{
 "cells": [
  {
   "cell_type": "markdown",
   "metadata": {},
   "source": [
    "# ENEA Technical Interview\n",
    "\n",
    "Data insights from crash stats"
   ]
  },
  {
   "cell_type": "code",
   "execution_count": 2,
   "metadata": {},
   "outputs": [
    {
     "name": "stdout",
     "output_type": "stream",
     "text": [
      "numpy version 1.21.6\n",
      "pandas version 1.1.5\n"
     ]
    }
   ],
   "source": [
    "import os\n",
    "import functools\n",
    "\n",
    "import numpy as np\n",
    "import pandas as pd\n",
    "import matplotlib.pyplot as plt\n",
    "import seaborn as sns\n",
    "\n",
    "pd.options.display.width = 180\n",
    "pd.options.display.max_colwidth = 120\n",
    "pd.options.display.max_rows = 100\n",
    "\n",
    "sns.reset_defaults()\n",
    "sns.set_theme(context='notebook', style='ticks', font_scale=1, rc={\n",
    "    'axes.spines.right': False,\n",
    "    'axes.spines.top': False,\n",
    "    'figure.figsize': (4,3),\n",
    "})\n",
    "\n",
    "print('numpy version', np.__version__)\n",
    "print('pandas version', pd.__version__)"
   ]
  },
  {
   "cell_type": "code",
   "execution_count": 2,
   "metadata": {},
   "outputs": [
    {
     "name": "stdout",
     "output_type": "stream",
     "text": [
      "Archive:  2000 to 2005 ACCIDENT.zip\n",
      "  inflating: 2000 to 2005 ACCIDENT/ACCIDENT.csv  \n",
      "  inflating: 2000 to 2005 ACCIDENT/ACCIDENT_EVENT.csv  \n",
      "  inflating: 2000 to 2005 ACCIDENT/ACCIDENT_LOCATION.csv  \n",
      "  inflating: 2000 to 2005 ACCIDENT/NODE_ID_COMPLEX_INT_ID.csv  \n",
      "  inflating: 2000 to 2005 ACCIDENT/ATMOSPHERIC_COND.csv  \n",
      "  inflating: 2000 to 2005 ACCIDENT/NODE.csv  \n",
      "  inflating: 2000 to 2005 ACCIDENT/PERSON.csv  \n",
      "  inflating: 2000 to 2005 ACCIDENT/ROAD_SURFACE_COND.csv  \n",
      "  inflating: 2000 to 2005 ACCIDENT/SUBDCA.csv  \n",
      "  inflating: 2000 to 2005 ACCIDENT/VEHICLE.csv  \n",
      "  inflating: 2000 to 2005 ACCIDENT/ACCIDENT_CHAINAGE.csv  \n",
      "  inflating: 2000 to 2005 ACCIDENT/Statistic Checks.csv  \n"
     ]
    }
   ],
   "source": [
    "!unzip \"2000 to 2005 ACCIDENT.zip\" -d \"2000 to 2005 ACCIDENT\"\n",
    "!unzip \"ACCIDENT.zip\" -d \"2006 to 2020 ACCIDENT\""
   ]
  },
  {
   "cell_type": "code",
   "execution_count": null,
   "metadata": {},
   "outputs": [],
   "source": []
  }
 ],
 "metadata": {
  "kernelspec": {
   "display_name": "v_env",
   "language": "python",
   "name": "v_env"
  },
  "language_info": {
   "codemirror_mode": {
    "name": "ipython",
    "version": 3
   },
   "file_extension": ".py",
   "mimetype": "text/x-python",
   "name": "python",
   "nbconvert_exporter": "python",
   "pygments_lexer": "ipython3",
   "version": "3.7.0"
  }
 },
 "nbformat": 4,
 "nbformat_minor": 4
}
